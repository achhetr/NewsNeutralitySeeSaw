{
 "cells": [
  {
   "cell_type": "code",
   "execution_count": 1,
   "metadata": {},
   "outputs": [
    {
     "name": "stderr",
     "output_type": "stream",
     "text": [
      "INFO: {'User-Agent': 'Mozilla/5.0 (Windows; U; Windows NT 6.1; x64; fr; rv:1.9.2.13) Gecko/20101203 Firebird/3.6.13'}\n"
     ]
    }
   ],
   "source": [
    "from twitterscraper import query_tweets_from_user\n",
    "import datetime as dt\n",
    "import pandas as pd"
   ]
  },
  {
   "cell_type": "code",
   "execution_count": 2,
   "metadata": {},
   "outputs": [],
   "source": [
    "# number of tweets\n",
    "limit = 10"
   ]
  },
  {
   "cell_type": "code",
   "execution_count": 3,
   "metadata": {},
   "outputs": [],
   "source": [
    "# user tweets\n",
    "user = 'RanaAyyub'"
   ]
  },
  {
   "cell_type": "code",
   "execution_count": null,
   "metadata": {},
   "outputs": [
    {
     "name": "stderr",
     "output_type": "stream",
     "text": [
      "INFO: Scraping tweets from https://twitter.com/RanaAyyub\n",
      "INFO: Using proxy 61.238.21.177:80\n",
      "INFO: Scraping tweets from https://twitter.com/i/profiles/show/RanaAyyub/timeline/tweets?include_available_features=1&include_entities=1&max_position=1255386285713342464&reset_error_state=false\n",
      "INFO: Using proxy 12.139.101.100:80\n",
      "INFO: Scraping tweets from https://twitter.com/i/profiles/show/RanaAyyub/timeline/tweets?include_available_features=1&include_entities=1&max_position=1254917675672895489&reset_error_state=false\n",
      "INFO: Using proxy 188.40.183.189:1080\n",
      "INFO: Scraping tweets from https://twitter.com/i/profiles/show/RanaAyyub/timeline/tweets?include_available_features=1&include_entities=1&max_position=1254520763593494528&reset_error_state=false\n",
      "INFO: Using proxy 80.48.119.28:8080\n",
      "INFO: Scraping tweets from https://twitter.com/i/profiles/show/RanaAyyub/timeline/tweets?include_available_features=1&include_entities=1&max_position=1253773049763172353&reset_error_state=false\n",
      "INFO: Using proxy 46.4.96.137:3128\n",
      "INFO: Scraping tweets from https://twitter.com/i/profiles/show/RanaAyyub/timeline/tweets?include_available_features=1&include_entities=1&max_position=1253263510957707265&reset_error_state=false\n",
      "INFO: Using proxy 203.19.92.3:80\n",
      "INFO: Scraping tweets from https://twitter.com/i/profiles/show/RanaAyyub/timeline/tweets?include_available_features=1&include_entities=1&max_position=1252798943802490882&reset_error_state=false\n",
      "INFO: Using proxy 161.35.70.249:8080\n",
      "INFO: Scraping tweets from https://twitter.com/i/profiles/show/RanaAyyub/timeline/tweets?include_available_features=1&include_entities=1&max_position=1252479689769340929&reset_error_state=false\n",
      "INFO: Using proxy 119.81.199.85:8123\n",
      "INFO: Scraping tweets from https://twitter.com/i/profiles/show/RanaAyyub/timeline/tweets?include_available_features=1&include_entities=1&max_position=1252143105689751552&reset_error_state=false\n",
      "INFO: Using proxy 207.154.231.213:8080\n",
      "INFO: Scraping tweets from https://twitter.com/i/profiles/show/RanaAyyub/timeline/tweets?include_available_features=1&include_entities=1&max_position=1251384621930934272&reset_error_state=false\n",
      "INFO: Using proxy 165.227.195.209:80\n",
      "INFO: Scraping tweets from https://twitter.com/i/profiles/show/RanaAyyub/timeline/tweets?include_available_features=1&include_entities=1&max_position=1250696790656946177&reset_error_state=false\n",
      "INFO: Using proxy 88.255.102.99:46015\n",
      "INFO: Scraping tweets from https://twitter.com/i/profiles/show/RanaAyyub/timeline/tweets?include_available_features=1&include_entities=1&max_position=1250178303350079489&reset_error_state=false\n",
      "INFO: Using proxy 88.99.10.254:1080\n",
      "INFO: Scraping tweets from https://twitter.com/i/profiles/show/RanaAyyub/timeline/tweets?include_available_features=1&include_entities=1&max_position=1249250554892648449&reset_error_state=false\n",
      "INFO: Using proxy 88.198.24.108:8080\n",
      "INFO: Scraping tweets from https://twitter.com/i/profiles/show/RanaAyyub/timeline/tweets?include_available_features=1&include_entities=1&max_position=1248475699045781504&reset_error_state=false\n",
      "INFO: Using proxy 128.199.202.122:3128\n",
      "INFO: Scraping tweets from https://twitter.com/i/profiles/show/RanaAyyub/timeline/tweets?include_available_features=1&include_entities=1&max_position=1247946237472649217&reset_error_state=false\n",
      "INFO: Using proxy 46.4.96.67:80\n",
      "INFO: Scraping tweets from https://twitter.com/i/profiles/show/RanaAyyub/timeline/tweets?include_available_features=1&include_entities=1&max_position=1247138689949372417&reset_error_state=false\n",
      "INFO: Using proxy 47.244.50.194:8081\n",
      "INFO: Scraping tweets from https://twitter.com/i/profiles/show/RanaAyyub/timeline/tweets?include_available_features=1&include_entities=1&max_position=1246815430079102976&reset_error_state=false\n",
      "INFO: Using proxy 176.9.119.170:8080\n",
      "INFO: Scraping tweets from https://twitter.com/i/profiles/show/RanaAyyub/timeline/tweets?include_available_features=1&include_entities=1&max_position=1246120775075205125&reset_error_state=false\n",
      "INFO: Using proxy 191.96.42.80:3128\n",
      "INFO: Scraping tweets from https://twitter.com/i/profiles/show/RanaAyyub/timeline/tweets?include_available_features=1&include_entities=1&max_position=1245652749963767811&reset_error_state=false\n",
      "INFO: Using proxy 192.140.91.253:34302\n",
      "INFO: Scraping tweets from https://twitter.com/i/profiles/show/RanaAyyub/timeline/tweets?include_available_features=1&include_entities=1&max_position=1245293898366193667&reset_error_state=false\n",
      "INFO: Using proxy 159.203.61.169:3128\n",
      "INFO: Scraping tweets from https://twitter.com/i/profiles/show/RanaAyyub/timeline/tweets?include_available_features=1&include_entities=1&max_position=1245011476026290178&reset_error_state=false\n",
      "INFO: Using proxy 173.249.24.52:3128\n",
      "INFO: Scraping tweets from https://twitter.com/i/profiles/show/RanaAyyub/timeline/tweets?include_available_features=1&include_entities=1&max_position=1244886142547189762&reset_error_state=false\n",
      "INFO: Using proxy 159.65.160.212:80\n",
      "INFO: Scraping tweets from https://twitter.com/i/profiles/show/RanaAyyub/timeline/tweets?include_available_features=1&include_entities=1&max_position=1244622541353660416&reset_error_state=false\n",
      "INFO: Using proxy 144.217.101.242:3129\n",
      "INFO: Scraping tweets from https://twitter.com/i/profiles/show/RanaAyyub/timeline/tweets?include_available_features=1&include_entities=1&max_position=1244279152783413248&reset_error_state=false\n",
      "INFO: Using proxy 165.227.183.55:8080\n",
      "INFO: Scraping tweets from https://twitter.com/i/profiles/show/RanaAyyub/timeline/tweets?include_available_features=1&include_entities=1&max_position=1244156424906633217&reset_error_state=false\n",
      "INFO: Using proxy 41.164.247.250:38460\n",
      "INFO: Scraping tweets from https://twitter.com/i/profiles/show/RanaAyyub/timeline/tweets?include_available_features=1&include_entities=1&max_position=1243756954511495169&reset_error_state=false\n",
      "INFO: Using proxy 198.199.120.102:3128\n",
      "INFO: Scraping tweets from https://twitter.com/i/profiles/show/RanaAyyub/timeline/tweets?include_available_features=1&include_entities=1&max_position=1243125738611433472&reset_error_state=false\n",
      "INFO: Using proxy 81.190.208.52:38264\n",
      "INFO: Scraping tweets from https://twitter.com/i/profiles/show/RanaAyyub/timeline/tweets?include_available_features=1&include_entities=1&max_position=1242857706748137474&reset_error_state=false\n",
      "INFO: Using proxy 88.198.50.103:8080\n",
      "INFO: Scraping tweets from https://twitter.com/i/profiles/show/RanaAyyub/timeline/tweets?include_available_features=1&include_entities=1&max_position=1242523542517940232&reset_error_state=false\n",
      "INFO: Using proxy 187.87.38.28:53281\n",
      "INFO: Scraping tweets from https://twitter.com/i/profiles/show/RanaAyyub/timeline/tweets?include_available_features=1&include_entities=1&max_position=1242348138528006150&reset_error_state=false\n",
      "INFO: Using proxy 169.57.157.148:8123\n",
      "INFO: Scraping tweets from https://twitter.com/i/profiles/show/RanaAyyub/timeline/tweets?include_available_features=1&include_entities=1&max_position=1241700751287521280&reset_error_state=false\n",
      "INFO: Using proxy 161.202.226.194:8123\n",
      "INFO: Scraping tweets from https://twitter.com/i/profiles/show/RanaAyyub/timeline/tweets?include_available_features=1&include_entities=1&max_position=1241238262204772352&reset_error_state=false\n",
      "INFO: Using proxy 190.103.178.15:8080\n",
      "INFO: Scraping tweets from https://twitter.com/i/profiles/show/RanaAyyub/timeline/tweets?include_available_features=1&include_entities=1&max_position=1240633862683643905&reset_error_state=false\n",
      "INFO: Using proxy 42.3.51.34:80\n",
      "INFO: Scraping tweets from https://twitter.com/i/profiles/show/RanaAyyub/timeline/tweets?include_available_features=1&include_entities=1&max_position=1240140211222388737&reset_error_state=false\n",
      "INFO: Using proxy 119.81.199.84:8123\n",
      "INFO: Scraping tweets from https://twitter.com/i/profiles/show/RanaAyyub/timeline/tweets?include_available_features=1&include_entities=1&max_position=1239847743121526790&reset_error_state=false\n",
      "INFO: Using proxy 165.227.15.78:3128\n",
      "INFO: Scraping tweets from https://twitter.com/i/profiles/show/RanaAyyub/timeline/tweets?include_available_features=1&include_entities=1&max_position=1239519470550265857&reset_error_state=false\n",
      "INFO: Using proxy 139.162.78.109:3128\n",
      "INFO: Scraping tweets from https://twitter.com/i/profiles/show/RanaAyyub/timeline/tweets?include_available_features=1&include_entities=1&max_position=1238368719384072192&reset_error_state=false\n"
     ]
    },
    {
     "name": "stderr",
     "output_type": "stream",
     "text": [
      "INFO: Using proxy 95.84.168.158:41928\n",
      "INFO: Scraping tweets from https://twitter.com/i/profiles/show/RanaAyyub/timeline/tweets?include_available_features=1&include_entities=1&max_position=1237250850382163970&reset_error_state=false\n",
      "INFO: Using proxy 80.187.140.26:8080\n",
      "INFO: Scraping tweets from https://twitter.com/i/profiles/show/RanaAyyub/timeline/tweets?include_available_features=1&include_entities=1&max_position=1235916046814474241&reset_error_state=false\n",
      "INFO: Using proxy 165.227.216.91:8080\n",
      "INFO: Scraping tweets from https://twitter.com/i/profiles/show/RanaAyyub/timeline/tweets?include_available_features=1&include_entities=1&max_position=1235128906711068672&reset_error_state=false\n",
      "INFO: Using proxy 192.41.71.221:3128\n",
      "INFO: Scraping tweets from https://twitter.com/i/profiles/show/RanaAyyub/timeline/tweets?include_available_features=1&include_entities=1&max_position=1234868795761713153&reset_error_state=false\n",
      "INFO: Using proxy 23.137.128.122:41549\n"
     ]
    }
   ],
   "source": [
    "tweets = query_tweets_from_user(user,limit=limit)"
   ]
  },
  {
   "cell_type": "code",
   "execution_count": null,
   "metadata": {},
   "outputs": [],
   "source": [
    "#for tweet in tweets:\n",
    "#        print(tweet.text.encode('utf-8'))"
   ]
  },
  {
   "cell_type": "code",
   "execution_count": null,
   "metadata": {},
   "outputs": [],
   "source": [
    "df = pd.DataFrame(tweet.__dict__ for tweet in tweets)"
   ]
  },
  {
   "cell_type": "code",
   "execution_count": null,
   "metadata": {},
   "outputs": [],
   "source": [
    "df = df[df['screen_name'] == user]"
   ]
  },
  {
   "cell_type": "code",
   "execution_count": null,
   "metadata": {},
   "outputs": [],
   "source": [
    "#df.to_csv(user +'-output.csv',index=False)"
   ]
  },
  {
   "cell_type": "code",
   "execution_count": null,
   "metadata": {},
   "outputs": [],
   "source": [
    "#df['text'].apply(lambda x: x.encode('utf-8'))"
   ]
  },
  {
   "cell_type": "code",
   "execution_count": null,
   "metadata": {},
   "outputs": [],
   "source": [
    "df.head()"
   ]
  },
  {
   "cell_type": "code",
   "execution_count": null,
   "metadata": {},
   "outputs": [],
   "source": []
  }
 ],
 "metadata": {
  "kernelspec": {
   "display_name": "Python 3",
   "language": "python",
   "name": "python3"
  },
  "language_info": {
   "codemirror_mode": {
    "name": "ipython",
    "version": 3
   },
   "file_extension": ".py",
   "mimetype": "text/x-python",
   "name": "python",
   "nbconvert_exporter": "python",
   "pygments_lexer": "ipython3",
   "version": "3.8.2"
  }
 },
 "nbformat": 4,
 "nbformat_minor": 4
}
